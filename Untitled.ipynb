{
 "cells": [
  {
   "cell_type": "code",
   "execution_count": null,
   "id": "9e5da3c6-98b5-44ab-81a1-5dfc1564d2f4",
   "metadata": {},
   "outputs": [],
   "source": [
    "Exercises:\n",
    "The CIA has several indicators for world countries:\n",
    "\n",
    "See here.\n",
    "Review the topics related to cleaning discussed in class, and see what may be need to clean this indicator from the CIA:\n",
    "\n",
    "Carbon dioxide emissions.\n",
    "You need to make sure you have installed:\n",
    "\n",
    "pandas\n",
    "html5lib\n",
    "lxml\n",
    "beautifulsoup4 (or bs4)\n",
    "You can use pip show to verify (for instance, pip show pandas). If you have all of them, run this code to get the data:"
   ]
  },
  {
   "cell_type": "code",
   "execution_count": null,
   "id": "337c20f3-a306-4d6e-a9fc-d24602be4f36",
   "metadata": {},
   "outputs": [],
   "source": []
  }
 ],
 "metadata": {
  "kernelspec": {
   "display_name": "Python 3 (ipykernel)",
   "language": "python",
   "name": "python3"
  },
  "language_info": {
   "codemirror_mode": {
    "name": "ipython",
    "version": 3
   },
   "file_extension": ".py",
   "mimetype": "text/x-python",
   "name": "python",
   "nbconvert_exporter": "python",
   "pygments_lexer": "ipython3",
   "version": "3.11.9"
  }
 },
 "nbformat": 4,
 "nbformat_minor": 5
}
