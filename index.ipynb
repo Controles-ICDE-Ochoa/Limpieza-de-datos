{
 "cells": [
  {
   "cell_type": "markdown",
   "metadata": {
    "id": "_em5Btsrj3iE"
   },
   "source": [
    "<center><img src=\"https://i.imgur.com/zRrFdsf.png\" width=\"700\"></center>"
   ]
  },
  {
   "cell_type": "markdown",
   "metadata": {
    "id": "O2f27oVNj3iM"
   },
   "source": [
    "## Exercises:"
   ]
  },
  {
   "cell_type": "markdown",
   "metadata": {
    "id": "qa-8nTVVj3iM"
   },
   "source": [
    "The CIA has several indicators for world countries:\n",
    "\n",
    "- See [here](https://www.cia.gov/the-world-factbook/references/guide-to-country-comparisons).\n",
    "\n",
    "Review the topics related to cleaning discussed in class, and see what may be need to clean this indicator from the CIA:\n",
    "\n",
    "- [Carbon dioxide emissions](https://www.cia.gov/the-world-factbook/field/carbon-dioxide-emissions/country-comparison)."
   ]
  },
  {
   "cell_type": "markdown",
   "metadata": {
    "id": "mgdN9ZK_j3iN"
   },
   "source": [
    "You  need to make sure you have installed:\n",
    "\n",
    "* pandas\n",
    "* html5lib\n",
    "* lxml\n",
    "* beautifulsoup4 (or bs4)\n",
    "\n",
    "You can use **pip show** to verify (for instance, _pip show pandas_). If you have all of them, run this code to get the data:"
   ]
  },
  {
   "cell_type": "code",
   "execution_count": 42,
   "metadata": {},
   "outputs": [
    {
     "name": "stdout",
     "output_type": "stream",
     "text": [
      "Defaulting to user installation because normal site-packages is not writeable\n",
      "Collecting html5lib\n",
      "  Downloading html5lib-1.1-py2.py3-none-any.whl.metadata (16 kB)\n",
      "Requirement already satisfied: six>=1.9 in c:\\programdata\\anaconda3\\envs\\ippe24\\lib\\site-packages (from html5lib) (1.16.0)\n",
      "Requirement already satisfied: webencodings in c:\\programdata\\anaconda3\\envs\\ippe24\\lib\\site-packages (from html5lib) (0.5.1)\n",
      "Downloading html5lib-1.1-py2.py3-none-any.whl (112 kB)\n",
      "Installing collected packages: html5lib\n",
      "Successfully installed html5lib-1.1\n"
     ]
    }
   ],
   "source": [
    "#!pip install html5lib"
   ]
  },
  {
   "cell_type": "code",
   "execution_count": 2,
   "metadata": {
    "id": "u6xLc_dHIJGu"
   },
   "outputs": [],
   "source": [
    "# read web table into pandas DF\n",
    "import pandas as pd\n",
    "\n",
    "\n",
    "ciaLink1='https://www.cia.gov/the-world-factbook/field/carbon-dioxide-emissions/country-comparison'\n",
    "carbon=pd.read_html(ciaLink1, # link\n",
    "                        header=0, # where is the header?\n",
    "                        flavor='bs4')[0] # and which table?\n"
   ]
  },
  {
   "cell_type": "code",
   "execution_count": 6,
   "metadata": {
    "colab": {
     "base_uri": "https://localhost:8080/",
     "height": 429
    },
    "id": "dAmQQMGvj3iN",
    "outputId": "b3f730fa-0f87-4358-ea58-5b40da553b05"
   },
   "outputs": [
    {
     "data": {
      "text/html": [
       "<div>\n",
       "<style scoped>\n",
       "    .dataframe tbody tr th:only-of-type {\n",
       "        vertical-align: middle;\n",
       "    }\n",
       "\n",
       "    .dataframe tbody tr th {\n",
       "        vertical-align: top;\n",
       "    }\n",
       "\n",
       "    .dataframe thead th {\n",
       "        text-align: right;\n",
       "    }\n",
       "</style>\n",
       "<table border=\"1\" class=\"dataframe\">\n",
       "  <thead>\n",
       "    <tr style=\"text-align: right;\">\n",
       "      <th></th>\n",
       "      <th>Rank</th>\n",
       "      <th>Country</th>\n",
       "      <th>metric tonnes of CO2</th>\n",
       "      <th>Date of Information</th>\n",
       "    </tr>\n",
       "  </thead>\n",
       "  <tbody>\n",
       "    <tr>\n",
       "      <th>0</th>\n",
       "      <td>1</td>\n",
       "      <td>China</td>\n",
       "      <td>13506000000</td>\n",
       "      <td>2022 est.</td>\n",
       "    </tr>\n",
       "    <tr>\n",
       "      <th>1</th>\n",
       "      <td>2</td>\n",
       "      <td>United States</td>\n",
       "      <td>4941000000</td>\n",
       "      <td>2022 est.</td>\n",
       "    </tr>\n",
       "    <tr>\n",
       "      <th>2</th>\n",
       "      <td>3</td>\n",
       "      <td>India</td>\n",
       "      <td>2805000000</td>\n",
       "      <td>2022 est.</td>\n",
       "    </tr>\n",
       "    <tr>\n",
       "      <th>3</th>\n",
       "      <td>4</td>\n",
       "      <td>Russia</td>\n",
       "      <td>1840000000</td>\n",
       "      <td>2022 est.</td>\n",
       "    </tr>\n",
       "    <tr>\n",
       "      <th>4</th>\n",
       "      <td>5</td>\n",
       "      <td>Japan</td>\n",
       "      <td>1049000000</td>\n",
       "      <td>2022 est.</td>\n",
       "    </tr>\n",
       "    <tr>\n",
       "      <th>...</th>\n",
       "      <td>...</td>\n",
       "      <td>...</td>\n",
       "      <td>...</td>\n",
       "      <td>...</td>\n",
       "    </tr>\n",
       "    <tr>\n",
       "      <th>213</th>\n",
       "      <td>214</td>\n",
       "      <td>Montserrat</td>\n",
       "      <td>26000</td>\n",
       "      <td>2022 est.</td>\n",
       "    </tr>\n",
       "    <tr>\n",
       "      <th>214</th>\n",
       "      <td>215</td>\n",
       "      <td>Saint Helena, Ascension, and Tristan da Cunha</td>\n",
       "      <td>13000</td>\n",
       "      <td>2022 est.</td>\n",
       "    </tr>\n",
       "    <tr>\n",
       "      <th>215</th>\n",
       "      <td>216</td>\n",
       "      <td>Antarctica</td>\n",
       "      <td>12000</td>\n",
       "      <td>2022 est.</td>\n",
       "    </tr>\n",
       "    <tr>\n",
       "      <th>216</th>\n",
       "      <td>217</td>\n",
       "      <td>Niue</td>\n",
       "      <td>8000</td>\n",
       "      <td>2022 est.</td>\n",
       "    </tr>\n",
       "    <tr>\n",
       "      <th>217</th>\n",
       "      <td>218</td>\n",
       "      <td>Northern Mariana Islands</td>\n",
       "      <td>0</td>\n",
       "      <td>2019 est.</td>\n",
       "    </tr>\n",
       "  </tbody>\n",
       "</table>\n",
       "<p>218 rows × 4 columns</p>\n",
       "</div>"
      ],
      "text/plain": [
       "     Rank                                        Country  \\\n",
       "0       1                                          China   \n",
       "1       2                                  United States   \n",
       "2       3                                          India   \n",
       "3       4                                         Russia   \n",
       "4       5                                          Japan   \n",
       "..    ...                                            ...   \n",
       "213   214                                     Montserrat   \n",
       "214   215  Saint Helena, Ascension, and Tristan da Cunha   \n",
       "215   216                                     Antarctica   \n",
       "216   217                                           Niue   \n",
       "217   218                       Northern Mariana Islands   \n",
       "\n",
       "     metric tonnes of CO2 Date of Information  \n",
       "0             13506000000           2022 est.  \n",
       "1              4941000000           2022 est.  \n",
       "2              2805000000           2022 est.  \n",
       "3              1840000000           2022 est.  \n",
       "4              1049000000           2022 est.  \n",
       "..                    ...                 ...  \n",
       "213                 26000           2022 est.  \n",
       "214                 13000           2022 est.  \n",
       "215                 12000           2022 est.  \n",
       "216                  8000           2022 est.  \n",
       "217                     0           2019 est.  \n",
       "\n",
       "[218 rows x 4 columns]"
      ]
     },
     "execution_count": 6,
     "metadata": {},
     "output_type": "execute_result"
    }
   ],
   "source": [
    "carbon=pd.read_html(ciaLink1, # link\n",
    "                        header=0, # where is the header?\n",
    "                        flavor='bs4')[0] # and which table?\n",
    "carbon"
   ]
  },
  {
   "cell_type": "code",
   "execution_count": 7,
   "metadata": {
    "colab": {
     "base_uri": "https://localhost:8080/"
    },
    "id": "0TTJk1odj3iN",
    "outputId": "e335f7e8-2b08-4955-8cf3-913e67d4290b"
   },
   "outputs": [
    {
     "name": "stdout",
     "output_type": "stream",
     "text": [
      "<class 'pandas.core.frame.DataFrame'>\n",
      "RangeIndex: 218 entries, 0 to 217\n",
      "Data columns (total 4 columns):\n",
      " #   Column                Non-Null Count  Dtype \n",
      "---  ------                --------------  ----- \n",
      " 0   Rank                  218 non-null    int64 \n",
      " 1   Country               218 non-null    object\n",
      " 2   metric tonnes of CO2  218 non-null    int64 \n",
      " 3   Date of Information   218 non-null    object\n",
      "dtypes: int64(2), object(2)\n",
      "memory usage: 6.9+ KB\n"
     ]
    }
   ],
   "source": [
    "# also\n",
    "carbon.info()"
   ]
  },
  {
   "cell_type": "code",
   "execution_count": 8,
   "metadata": {
    "colab": {
     "base_uri": "https://localhost:8080/",
     "height": 241
    },
    "id": "WVLGhvkYj3iO",
    "outputId": "bfc4f7d9-af72-4ff3-b613-4f7ea1092be3"
   },
   "outputs": [
    {
     "data": {
      "text/plain": [
       "Date of Information\n",
       "2022 est.    215\n",
       "2012 est.      1\n",
       "2017 est.      1\n",
       "2019 est.      1\n",
       "Name: count, dtype: int64"
      ]
     },
     "execution_count": 8,
     "metadata": {},
     "output_type": "execute_result"
    }
   ],
   "source": [
    "# frequency table\n",
    "carbon['Date of Information'].value_counts()"
   ]
  },
  {
   "cell_type": "markdown",
   "metadata": {
    "id": "UIw8d0ozj3iO"
   },
   "source": [
    "Complete the tasks requested:\n",
    "\n",
    "1. Keep all the columns but _Rank_.\n",
    "    * Tip: use [drop](https://pandas.pydata.org/docs/reference/api/pandas.DataFrame.drop.html), [loc](https://pandas.pydata.org/docs/reference/api/pandas.DataFrame.loc.html), and [iloc](https://pandas.pydata.org/docs/reference/api/pandas.DataFrame.iloc.html) for the same purpose (three ways to accomplish the task).\n",
    "2. Rename the column names for easier understanding.\n",
    "    * Tip: Use [rename](https://pandas.pydata.org/docs/reference/api/pandas.DataFrame.rename.html).\n",
    "3. Make sure the cells with text does not have neither trailing nor leading spaces.\n",
    "    * Tip: use [strip](https://pandas.pydata.org/docs/reference/api/pandas.Series.str.strip.html).\n",
    "4. Detect the presence of symbols in the numeric data that are not numeric or point.\n",
    "    * Tip: Use [contains](https://pandas.pydata.org/docs/reference/api/pandas.Series.str.contains.html).\n",
    "5. Make sure there are no spaces as part of the column names.\n",
    "    * Tip: use [replace](https://pandas.pydata.org/docs/reference/api/pandas.Series.replace.html).\n",
    "6. Keep only the year value in the column *carbon_date*.\n",
    "    * Tip: use [extract](https://pandas.pydata.org/docs/reference/api/pandas.Series.str.extract.html).\n",
    "\n",
    "When all tasks are done, create a folder **data** inside the current folder, and save the cleaned file like this:\n"
   ]
  },
  {
   "cell_type": "code",
   "execution_count": 9,
   "metadata": {
    "id": "AXeewlqLj3iO"
   },
   "outputs": [
    {
     "ename": "NameError",
     "evalue": "name 'Rank' is not defined",
     "output_type": "error",
     "traceback": [
      "\u001b[1;31m---------------------------------------------------------------------------\u001b[0m",
      "\u001b[1;31mNameError\u001b[0m                                 Traceback (most recent call last)",
      "Cell \u001b[1;32mIn[9], line 3\u001b[0m\n\u001b[0;32m      1\u001b[0m \u001b[38;5;66;03m# import os\u001b[39;00m\n\u001b[0;32m      2\u001b[0m \u001b[38;5;66;03m# carbonCleaned.to_csv(os.path.join(\"data\",\"carbonCleaned.csv\"),index=False)\u001b[39;00m\n\u001b[1;32m----> 3\u001b[0m carbon\u001b[38;5;241m.\u001b[39miloc(Rank)\n",
      "\u001b[1;31mNameError\u001b[0m: name 'Rank' is not defined"
     ]
    }
   ],
   "source": [
    "# import os\n",
    "# carbonCleaned.to_csv(os.path.join(\"data\",\"carbonCleaned.csv\"),index=False)\n",
    "carbon.iloc(Rank)"
   ]
  },
  {
   "cell_type": "markdown",
   "metadata": {
    "id": "yd4p-5z7j3iO"
   },
   "source": [
    "- Exercise 2: Scrape the data on [Revenue from forest resources](https://www.cia.gov/the-world-factbook/field/revenue-from-forest-resources/country-comparison)."
   ]
  },
  {
   "cell_type": "markdown",
   "metadata": {
    "id": "tmiqVHh7j3iQ"
   },
   "source": [
    "Complete the same tasks requested in the previous exercise.\n",
    "When all tasks are done, save the cleaned file inside your **data** folder:\n"
   ]
  },
  {
   "cell_type": "code",
   "execution_count": null,
   "metadata": {
    "id": "y66BGcvjj3iQ"
   },
   "outputs": [],
   "source": [
    "# import os\n",
    "\n",
    "# forestCleaned.to_csv(os.path.join(\"data\",\"forestCleaned.csv\"),index=False)"
   ]
  }
 ],
 "metadata": {
  "anaconda-cloud": {
   "attach-environment": true,
   "summary": "test"
  },
  "colab": {
   "provenance": []
  },
  "hide_input": false,
  "kernelspec": {
   "display_name": "Python 3 (ipykernel)",
   "language": "python",
   "name": "python3"
  },
  "language_info": {
   "codemirror_mode": {
    "name": "ipython",
    "version": 3
   },
   "file_extension": ".py",
   "mimetype": "text/x-python",
   "name": "python",
   "nbconvert_exporter": "python",
   "pygments_lexer": "ipython3",
   "version": "3.11.9"
  },
  "toc-autonumbering": false
 },
 "nbformat": 4,
 "nbformat_minor": 4
}
